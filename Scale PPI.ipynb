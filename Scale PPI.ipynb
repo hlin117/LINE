{
 "cells": [
  {
   "cell_type": "code",
   "execution_count": null,
   "metadata": {
    "collapsed": true
   },
   "outputs": [],
   "source": [
    "import networkx as nx\n",
    "import pandas as pd\n",
    "from sklearn.preprocessing import StandardScaler\n",
    "\n",
    "df = pd.read_csv(\"ppi_edges_filtered.txt\", sep=',', index_col=0)"
   ]
  },
  {
   "cell_type": "code",
   "execution_count": 171,
   "metadata": {
    "collapsed": true
   },
   "outputs": [],
   "source": [
    "G = nx.from_pandas_dataframe(df, source=\"source\", target=\"target\", edge_attr=\"weight\")\n",
    "\n",
    "expressions = pd.read_csv(\"DREAM7_DrugSensitivity1_GeneExpression.txt\", sep=\"\\t\", index_col=0)"
   ]
  },
  {
   "cell_type": "code",
   "execution_count": 172,
   "metadata": {
    "collapsed": true
   },
   "outputs": [],
   "source": [
    "expressions = expressions.T\n",
    "expressions.loc[:, :] = StandardScaler().fit_transform(expressions)\n",
    "expressions = expressions.T"
   ]
  },
  {
   "cell_type": "code",
   "execution_count": 173,
   "metadata": {
    "collapsed": true
   },
   "outputs": [],
   "source": [
    "%matplotlib inline\n",
    "import matplotlib.pyplot as plt\n",
    "import numpy as np"
   ]
  },
  {
   "cell_type": "markdown",
   "metadata": {},
   "source": [
    "## Mucking around data..."
   ]
  },
  {
   "cell_type": "code",
   "execution_count": 41,
   "metadata": {
    "collapsed": false,
    "scrolled": false
   },
   "outputs": [],
   "source": [
    "lessthan_mask = expressions < -3\n",
    "morethan_mask = expressions > 3"
   ]
  },
  {
   "cell_type": "code",
   "execution_count": 42,
   "metadata": {
    "collapsed": false
   },
   "outputs": [
    {
     "data": {
      "text/plain": [
       "(array([ 13213.,   4817.,      0.,    581.,     21.]),\n",
       " array([ 0. ,  0.6,  1.2,  1.8,  2.4,  3. ]),\n",
       " <a list of 5 Patch objects>)"
      ]
     },
     "execution_count": 42,
     "metadata": {},
     "output_type": "execute_result"
    },
    {
     "data": {
      "image/png": "[encoded data removed]",
      "text/plain": [
       "<matplotlib.figure.Figure at 0x120172e90>"
      ]
     },
     "metadata": {},
     "output_type": "display_data"
    }
   ],
   "source": [
    "plt.hist((lessthan_mask | morethan_mask).sum(axis=1), bins=5)"
   ]
  },
  {
   "cell_type": "code",
   "execution_count": 8,
   "metadata": {
    "collapsed": false
   },
   "outputs": [
    {
     "data": {
      "text/plain": [
       "-0.47951339849385477"
      ]
     },
     "execution_count": 8,
     "metadata": {},
     "output_type": "execute_result"
    }
   ],
   "source": [
    "np.percentile(expressions.ix[:, 0], 33)"
   ]
  },
  {
   "cell_type": "markdown",
   "metadata": {},
   "source": [
    "## Going to use the CDF of the normal dist\n",
    "\n",
    "Suppose we fix a cell line.\n",
    "\n",
    "Given a weight in the graph, $w_{ij}$, where $i$ is the source and $j$ is the target, we assign\n",
    "$$w_{ij} \\leftarrow w_{ij} * 2 * \\frac{1}{\\sqrt{2\\pi}} \\int_{-\\infty}^x exp(\\frac{1}{2} x^2)dx$$\n",
    "This should be recognized as double the CDF of the normal distribution"
   ]
  },
  {
   "cell_type": "code",
   "execution_count": 174,
   "metadata": {
    "collapsed": false
   },
   "outputs": [],
   "source": [
    "from scipy.stats import norm\n",
    "rv = norm()\n",
    "gene_mappings = pd.read_csv(\"genes_filtered.txt\", index_col=0)\n",
    "gene_mappings.set_index('id', inplace=True)"
   ]
  },
  {
   "cell_type": "code",
   "execution_count": 200,
   "metadata": {
    "collapsed": true
   },
   "outputs": [],
   "source": [
    "def integrate_expressions(G, cellline):\n",
    "    output = G.copy()\n",
    "    exprs = expressions[cellline]\n",
    "    for node in output.nodes_iter():\n",
    "        gene = gene_mappings.loc[int(node)]\n",
    "        gene_expression = exprs.loc[gene][0]\n",
    "        \n",
    "        # There are no Nan gene expressions\n",
    "#        if gene_expression == np.nan:\n",
    "#            continue  # Ignore the nan\n",
    "            \n",
    "        # Now we adjust the weights of each of the neighbors by\n",
    "        # multiplying it by the 2*CDF(expression)\n",
    "        neighbors = output[node]\n",
    "        for neighbor in neighbors:\n",
    "            weight = output[node][neighbor][\"weight\"]\n",
    "            output[node][neighbor][\"weight\"] = 2 * rv.cdf(gene_expression)\n",
    "    return output\n"
   ]
  },
  {
   "cell_type": "code",
   "execution_count": null,
   "metadata": {
    "collapsed": false
   },
   "outputs": [],
   "source": [
    "graph = integrate_expressions(G, \"184B5\")"
   ]
  },
  {
   "cell_type": "code",
   "execution_count": 190,
   "metadata": {
    "collapsed": false
   },
   "outputs": [
    {
     "data": {
      "text/plain": [
       "Gene    TNMD\n",
       "Name: 1, dtype: object"
      ]
     },
     "execution_count": 190,
     "metadata": {},
     "output_type": "execute_result"
    }
   ],
   "source": [
    "gene_mappings.loc[1]"
   ]
  },
  {
   "cell_type": "code",
   "execution_count": null,
   "metadata": {
    "collapsed": true
   },
   "outputs": [],
   "source": []
  }
 ],
 "metadata": {
  "kernelspec": {
   "display_name": "Python 2",
   "language": "python",
   "name": "python2"
  },
  "language_info": {
   "codemirror_mode": {
    "name": "ipython",
    "version": 2
   },
   "file_extension": ".py",
   "mimetype": "text/x-python",
   "name": "python",
   "nbconvert_exporter": "python",
   "pygments_lexer": "ipython2",
   "version": "2.7.9"
  }
 },
 "nbformat": 4,
 "nbformat_minor": 0
}
